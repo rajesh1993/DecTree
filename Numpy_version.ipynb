{
 "cells": [
  {
   "cell_type": "code",
   "execution_count": 188,
   "metadata": {
    "collapsed": true
   },
   "outputs": [],
   "source": [
    "import random\n",
    "import pickle as pkl\n",
    "import argparse\n",
    "import csv\n",
    "import numpy as np\n",
    "import scipy.stats\n",
    "import time\n",
    "from scipy.stats import chisquare\n",
    "import pandas as pd"
   ]
  },
  {
   "cell_type": "code",
   "execution_count": 20,
   "metadata": {
    "collapsed": true
   },
   "outputs": [],
   "source": [
    "def load_data(ftrain, ftest):\n",
    "    Xtrain, Ytrain, Xtest = [],[],[]\n",
    "    with open(ftrain, 'r') as f:\n",
    "        reader = csv.reader(f)\n",
    "        for row in reader:\n",
    "            rw = [int(x) for x in row[0].split()]\n",
    "            Xtrain.append(rw)\n",
    "\n",
    "    with open(ftest, 'r') as f:\n",
    "        reader = csv.reader(f)\n",
    "        for row in reader:\n",
    "            rw = [int(x) for x in row[0].split()]\n",
    "            Xtest.append(rw)\n",
    "\n",
    "    ftrain_label = ftrain.split('.')[0] + '_label.csv'\n",
    "    with open(ftrain_label, 'r') as f:\n",
    "        reader = csv.reader(f)\n",
    "        for row in reader:\n",
    "            rw = int(row[0])\n",
    "            Ytrain.append(rw)\n",
    "    #Remove this block before submission and remove Ytest\n",
    "    Ytest = []\n",
    "    ftest_label = ftest.split('.')[0] + '_label.csv'\n",
    "    with open(ftest_label, 'r') as f:\n",
    "        reader = csv.reader(f)\n",
    "        for row in reader:\n",
    "            rw = int(row[0])\n",
    "            Ytest.append(rw)\n",
    "\n",
    "    print('Data Loading: done')\n",
    "    return Xtrain, Ytrain, Xtest, Ytest"
   ]
  },
  {
   "cell_type": "code",
   "execution_count": 21,
   "metadata": {},
   "outputs": [
    {
     "name": "stdout",
     "output_type": "stream",
     "text": [
      "Data Loading: done\n"
     ]
    }
   ],
   "source": [
    "X_train, Y_train, X_test, Y_test = load_data('train.csv', 'test.csv')"
   ]
  },
  {
   "cell_type": "code",
   "execution_count": 74,
   "metadata": {},
   "outputs": [],
   "source": [
    "x_train = np.array(X_train)\n",
    "y_train = np.array(Y_train)\n",
    "x_test = np.array(X_test)\n",
    "y_test = np.array(Y_test)\n"
   ]
  },
  {
   "cell_type": "code",
   "execution_count": 103,
   "metadata": {},
   "outputs": [],
   "source": [
    "np.bincount(np.array([1,2,3,4,5,6,7,8,23]))\n",
    "y_train = np.reshape(y_train,(40000,1))"
   ]
  },
  {
   "cell_type": "code",
   "execution_count": 107,
   "metadata": {},
   "outputs": [],
   "source": [
    "x_train = np.append(x_train, y_train, axis = 1)"
   ]
  },
  {
   "cell_type": "code",
   "execution_count": 108,
   "metadata": {},
   "outputs": [
    {
     "data": {
      "text/plain": [
       "(40000, 275)"
      ]
     },
     "execution_count": 108,
     "metadata": {},
     "output_type": "execute_result"
    }
   ],
   "source": [
    "np.shape(x_train)"
   ]
  },
  {
   "cell_type": "code",
   "execution_count": 31,
   "metadata": {
    "collapsed": true
   },
   "outputs": [],
   "source": [
    "class TreeNode():\n",
    "    def __init__(self, data='T',children=[-1]*5):\n",
    "        self.nodes = list(children)\n",
    "        self.data = data\n",
    "\n",
    "    def save_tree(self,filename):\n",
    "        obj = open(filename,'w')\n",
    "        pkl.dump(self,obj)"
   ]
  },
  {
   "cell_type": "code",
   "execution_count": 151,
   "metadata": {
    "collapsed": true
   },
   "outputs": [],
   "source": [
    "def info_gain(Tdata):\n",
    "    max_gain = 0\n",
    "    max_gain_col = \"\"\n",
    "    counts = np.bincount(Tdata.T[-1])\n",
    "    sys_ent = scipy.stats.entropy([x/np.shape(Tdata.T[-1])[0] for x in counts], base = 2)\n",
    "    for col in range(np.shape(Tdata)[1] - 1):\n",
    "        valDict = {}\n",
    "        for row in range(np.shape(Tdata)[0]): \n",
    "            if str(Tdata[row,col]) in valDict:\n",
    "                if Tdata[row,-1] == 1:\n",
    "                    valDict[str(Tdata[row,col])][0] += 1\n",
    "                else:\n",
    "                    valDict[str(Tdata[row,col])][1] += 1\n",
    "            else:\n",
    "                if Tdata[row,-1] == 1:\n",
    "                    valDict[str(Tdata[row,col])] = [1,0]\n",
    "                else:\n",
    "                    valDict[str(Tdata[row,col])] = [0,1]\n",
    "        col_counts = np.bincount(Tdata[:,col])\n",
    "        ent = 0\n",
    "        for value in valDict:\n",
    "            ent += col_counts[int(value)]/np.sum(col_counts) * scipy.stats.entropy([x/np.sum(valDict[value]) for x in valDict[value]], base = 2)\n",
    "        col_gain = sys_ent - ent\n",
    "        if col_gain > max_gain:\n",
    "            max_gain = col_gain\n",
    "            max_gain_col = col\n",
    "    return max_gain_col"
   ]
  },
  {
   "cell_type": "code",
   "execution_count": 152,
   "metadata": {},
   "outputs": [
    {
     "name": "stdout",
     "output_type": "stream",
     "text": [
      "39.216637134552\n"
     ]
    }
   ],
   "source": [
    "A= time.time()\n",
    "info_gain(x_train)\n",
    "print(time.time() - A)"
   ]
  },
  {
   "cell_type": "code",
   "execution_count": 144,
   "metadata": {},
   "outputs": [],
   "source": []
  },
  {
   "cell_type": "code",
   "execution_count": 184,
   "metadata": {},
   "outputs": [],
   "source": [
    "a = np.array([1,1,1,1,1])\n",
    "b = chisquare(x_train[1])"
   ]
  },
  {
   "cell_type": "code",
   "execution_count": 189,
   "metadata": {},
   "outputs": [],
   "source": []
  },
  {
   "cell_type": "code",
   "execution_count": null,
   "metadata": {},
   "outputs": [],
   "source": [
    "\n"
   ]
  },
  {
   "cell_type": "code",
   "execution_count": null,
   "metadata": {
    "collapsed": true
   },
   "outputs": [],
   "source": []
  }
 ],
 "metadata": {
  "kernelspec": {
   "display_name": "Python 3",
   "language": "python",
   "name": "python3"
  },
  "language_info": {
   "codemirror_mode": {
    "name": "ipython",
    "version": 3
   },
   "file_extension": ".py",
   "mimetype": "text/x-python",
   "name": "python",
   "nbconvert_exporter": "python",
   "pygments_lexer": "ipython3",
   "version": "3.6.1"
  }
 },
 "nbformat": 4,
 "nbformat_minor": 2
}
