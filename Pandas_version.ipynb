{
 "cells": [
  {
   "cell_type": "code",
   "execution_count": 92,
   "metadata": {
    "collapsed": true
   },
   "outputs": [],
   "source": [
    "import random\n",
    "import pickle as pkl\n",
    "import argparse\n",
    "import csv\n",
    "import numpy as np\n",
    "import scipy.stats\n",
    "import time\n",
    "import pandas as pd\n",
    "from sklearn.metrics import accuracy_score\n",
    "from scipy.stats import chisquare"
   ]
  },
  {
   "cell_type": "code",
   "execution_count": 2,
   "metadata": {
    "collapsed": true
   },
   "outputs": [],
   "source": [
    "def load_data(ftrain, ftest):\n",
    "    Xtrain, Ytrain, Xtest = [],[],[]\n",
    "    with open(ftrain, 'r') as f:\n",
    "        reader = csv.reader(f)\n",
    "        for row in reader:\n",
    "            rw = [int(x) for x in row[0].split()]\n",
    "            Xtrain.append(rw)\n",
    "\n",
    "    with open(ftest, 'r') as f:\n",
    "        reader = csv.reader(f)\n",
    "        for row in reader:\n",
    "            rw = [int(x) for x in row[0].split()]\n",
    "            Xtest.append(rw)\n",
    "\n",
    "    ftrain_label = ftrain.split('.')[0] + '_label.csv'\n",
    "    with open(ftrain_label, 'r') as f:\n",
    "        reader = csv.reader(f)\n",
    "        for row in reader:\n",
    "            rw = int(row[0])\n",
    "            Ytrain.append(rw)\n",
    "    #Remove this block before submission and remove Ytest\n",
    "    Ytest = []\n",
    "    ftest_label = ftest.split('.')[0] + '_label.csv'\n",
    "    with open(ftest_label, 'r') as f:\n",
    "        reader = csv.reader(f)\n",
    "        for row in reader:\n",
    "            rw = int(row[0])\n",
    "            Ytest.append(rw)\n",
    "\n",
    "    print('Data Loading: done')\n",
    "    return Xtrain, Ytrain, Xtest, Ytest"
   ]
  },
  {
   "cell_type": "code",
   "execution_count": 3,
   "metadata": {},
   "outputs": [
    {
     "name": "stdout",
     "output_type": "stream",
     "text": [
      "Data Loading: done\n"
     ]
    }
   ],
   "source": [
    "X_train, Y_train, X_test, Y_test = load_data('train.csv', 'test.csv')"
   ]
  },
  {
   "cell_type": "code",
   "execution_count": 4,
   "metadata": {
    "collapsed": true
   },
   "outputs": [],
   "source": [
    "x_train = pd.DataFrame(X_train)\n",
    "y_train = pd.DataFrame(Y_train)\n",
    "x_test = pd.DataFrame(X_test)\n",
    "y_test = pd.DataFrame(Y_test)\n",
    "\n"
   ]
  },
  {
   "cell_type": "code",
   "execution_count": 5,
   "metadata": {
    "collapsed": true
   },
   "outputs": [],
   "source": [
    "y_train.columns = ['Y']\n"
   ]
  },
  {
   "cell_type": "code",
   "execution_count": 6,
   "metadata": {
    "collapsed": true
   },
   "outputs": [],
   "source": [
    "XY_train = pd.concat([x_train,y_train], axis = 1)"
   ]
  },
  {
   "cell_type": "code",
   "execution_count": 7,
   "metadata": {
    "collapsed": true
   },
   "outputs": [],
   "source": [
    "def infoGainOld(TD):\n",
    "    #Initialize gain parameters\n",
    "#     counts = TD['Y'].value_counts()\n",
    "#     sysEnt = scipy.stats.entropy([x/sum(counts) for x in counts], base = 2)\n",
    "    TD_length = len(TD)\n",
    "#     gain = []\n",
    "    min_gain = 99999\n",
    "    minGainColumn = -1\n",
    "    for column in TD:\n",
    "        #Ignoring output column\n",
    "        if column == 'Y':\n",
    "            continue\n",
    "        #Obtain the unique values in the column\n",
    "        #Initialize column entropy to zero\n",
    "        col_entropy = 0\n",
    "        for value in set(TD[column]):\n",
    "            #Obtain the output variable counts for one value in current column\n",
    "            Y_counts = TD.loc[TD[column].isin([value])]['Y'].value_counts()\n",
    "            sum_Y_counts = sum(Y_counts)\n",
    "            #Calculate entropy for that value in the column\n",
    "            #Add the entropy to the column entropy\n",
    "            col_entropy += (sum_Y_counts/TD_length) * scipy.stats.entropy([x/sum_Y_counts for x in Y_counts], base = 2)\n",
    "        #Compute column gain using system entropy\n",
    "#         col_gain = sysEnt - col_entropy\n",
    "#         gain.append(col_entropy)\n",
    "        #Find max gain\n",
    "        if col_entropy < min_gain:\n",
    "            min_gain = col_entropy\n",
    "            minGainColumn = column\n",
    "    #Return the column having maximum gain\n",
    "#     np_gain = np.array(gain[:-1])\n",
    "    return minGainColumn\n",
    "#     return np.argmin(np_gain)"
   ]
  },
  {
   "cell_type": "code",
   "execution_count": 99,
   "metadata": {
    "collapsed": true
   },
   "outputs": [],
   "source": [
    "# DO NOT CHANGE THIS CLASS\n",
    "class TreeNode():\n",
    "    def __init__(self, data='T',children=[-1]*5):\n",
    "        self.nodes = list(children)\n",
    "        self.data = data\n",
    "\n",
    "\n",
    "    def save_tree(self,filename):\n",
    "        obj = open(filename,'wb')\n",
    "        pkl.dump(self,obj)"
   ]
  },
  {
   "cell_type": "code",
   "execution_count": 82,
   "metadata": {
    "collapsed": true
   },
   "outputs": [],
   "source": [
    "def ID3Algo(T, node, depth, best_attrib, p_value):\n",
    "#     print(depth)\n",
    "    Y_counts = T['Y'].value_counts()\n",
    "    if depth == 0:\n",
    "        if Y_counts[1] > Y_counts[0]:\n",
    "            return TreeNode('T', [])\n",
    "        else:\n",
    "            return TreeNode('F', [])\n",
    "#     best_attrib = infoGainOld(T)\n",
    "#     if best_attrib == -1:\n",
    "#         if Y_counts.index[0] == 1:\n",
    "#             return TreeNode('T', [])\n",
    "#         else:\n",
    "#             return TreeNode('F', [])\n",
    "    node.data = best_attrib\n",
    "    children = []\n",
    "    child_attrib = {}\n",
    "    cols = set(T.columns)\n",
    "    cols.remove(best_attrib)\n",
    "    T_length = len(T)\n",
    "    for value in set(T[best_attrib]):\n",
    "        splitData = T.loc[T[best_attrib].isin([value]), cols]\n",
    "        observed = splitData['Y'].value_counts()\n",
    "        expected = T['Y'].value_counts() / T_length * len(splitData)\n",
    "        S, p = scipy.stats.chisquare(observed,expected)\n",
    "        if p > p_value:\n",
    "            if len(observed) == 1:\n",
    "                if observed.index[0] == 1:\n",
    "                    child = TreeNode('T',[])\n",
    "                else:\n",
    "                    child = TreeNode('F',[])\n",
    "            else:\n",
    "                if observed[1] > observed[0]:\n",
    "                    child = TreeNode('T', [])\n",
    "                else:\n",
    "                    child = TreeNode('F', [])\n",
    "        else:\n",
    "            if len(observed) == 1:\n",
    "                if observed.index[0] == 1:\n",
    "                    child = TreeNode('T',[])\n",
    "                else:\n",
    "                    child = TreeNode('F',[])\n",
    "            else:\n",
    "                best_attrib_child = infoGainOld(splitData)\n",
    "                if str(best_attrib_child) in child_attrib:\n",
    "                    child = child_attrib[str(best_attrib_child)]\n",
    "                else:\n",
    "                    child = ID3Algo(splitData, TreeNode(), depth-1, best_attrib_child, p_value)\n",
    "                    child_attrib[str(best_attrib_child)] = child\n",
    "        children.append((value, child))\n",
    "    node.nodes = children\n",
    "    return node\n",
    "    "
   ]
  },
  {
   "cell_type": "code",
   "execution_count": 170,
   "metadata": {
    "collapsed": true
   },
   "outputs": [],
   "source": [
    "\n",
    "#Runs the ID3 algorithm to generate a decision tree\n",
    "def ID3Algo(T, node, depth, best_attrib, p_value):\n",
    "    Y_counts = T['Y'].value_counts()\n",
    "    #Depth-limiter\n",
    "    if depth == 0:\n",
    "        if Y_counts[1] > Y_counts[0]:\n",
    "            return TreeNode('T')\n",
    "        else:\n",
    "            return TreeNode('F')\n",
    "    if best_attrib == -1:\n",
    "            if Y_counts.index[0] == 1:\n",
    "                return TreeNode('T')\n",
    "            else:\n",
    "                return TreeNode('F')\n",
    "    node.data = best_attrib\n",
    "    children = [-1,-1,-1,-1,-1]\n",
    "    child_attrib = {}\n",
    "    cols = set(T.columns)\n",
    "    cols.remove(best_attrib)\n",
    "    T_length = len(T)\n",
    "    val_list = set(T[best_attrib])\n",
    "    for value in range(1,6):\n",
    "        #Making a guess for values not present in training set\n",
    "        if value not in val_list:\n",
    "            children[value - 1] = TreeNode('F')\n",
    "        else:\n",
    "            #Computing the p-value of each split\n",
    "            splitData = T.loc[T[best_attrib].isin([value]), cols]\n",
    "            observed = splitData['Y'].value_counts()\n",
    "            expected = T['Y'].value_counts() / float(T_length) * float(len(splitData))\n",
    "            S, p = scipy.stats.chisquare(observed,expected)\n",
    "\n",
    "            #Comparing with the threshold\n",
    "            if p > p_value:\n",
    "                #pure subset case\n",
    "                if len(observed) == 1:\n",
    "                    if observed.index[0] == 1:\n",
    "                        child = TreeNode('T')\n",
    "                    else:\n",
    "                        child = TreeNode('F')\n",
    "                else:\n",
    "                    if observed[1] > observed[0]:\n",
    "                        child = TreeNode('T')\n",
    "                    else:\n",
    "                        child = TreeNode('F')\n",
    "            else:\n",
    "                #pure subset case\n",
    "                if len(observed) == 1:\n",
    "                    if observed.index[0] == 1:\n",
    "                        child = TreeNode('T')\n",
    "                    else:\n",
    "                        child = TreeNode('F')\n",
    "                else:\n",
    "                    #Compute best attribute inside the split\n",
    "                    best_attrib_child = infoGainOld(splitData)\n",
    "                    #To avoid recomputation of tree at the same level, store the child node in a dict\n",
    "                    if str(best_attrib_child) in child_attrib:\n",
    "                        child = child_attrib[str(best_attrib_child)]\n",
    "                    else:\n",
    "                        child = ID3Algo(splitData, TreeNode(), depth-1, best_attrib_child, p_value)\n",
    "                        child_attrib[str(best_attrib_child)] = child\n",
    "            children[value - 1] = child\n",
    "    node.nodes = children\n",
    "    return node\n"
   ]
  },
  {
   "cell_type": "code",
   "execution_count": 176,
   "metadata": {},
   "outputs": [
    {
     "name": "stdout",
     "output_type": "stream",
     "text": [
      "281.11544013023376\n"
     ]
    }
   ],
   "source": [
    "root = TreeNode()\n",
    "A= time.time()\n",
    "root_tree = ID3Algo(XY_train,root, 6, 89, 1)\n",
    "print(time.time() - A)"
   ]
  },
  {
   "cell_type": "code",
   "execution_count": 154,
   "metadata": {},
   "outputs": [],
   "source": [
    "def DFStraversal(root):\n",
    "    fringe = [root]\n",
    "    leafCount = 0\n",
    "    nodeCount = 0\n",
    "    while len(fringe) != 0 :\n",
    "        currNode = fringe.pop()\n",
    "        nodeCount += 1\n",
    "        if currNode.data == 'T' or currNode.data == 'F':\n",
    "            leafCount += 1\n",
    "        else:\n",
    "            for item in currNode.nodes:\n",
    "                if item != -1:\n",
    "                    fringe.append(item)\n",
    "    return nodeCount, leafCount"
   ]
  },
  {
   "cell_type": "code",
   "execution_count": 177,
   "metadata": {},
   "outputs": [
    {
     "data": {
      "text/plain": [
       "(4021, 3217)"
      ]
     },
     "execution_count": 177,
     "metadata": {},
     "output_type": "execute_result"
    }
   ],
   "source": [
    "DFStraversal(root_tree)"
   ]
  },
  {
   "cell_type": "code",
   "execution_count": 86,
   "metadata": {},
   "outputs": [
    {
     "name": "stdout",
     "output_type": "stream",
     "text": [
      "271\n",
      "167\n",
      "268\n",
      "80\n",
      "271\n"
     ]
    }
   ],
   "source": [
    "for value, child in root_tree.nodes:\n",
    "    print(child.data)"
   ]
  },
  {
   "cell_type": "code",
   "execution_count": 88,
   "metadata": {
    "collapsed": true
   },
   "outputs": [],
   "source": [
    "def TreeOutputForRow(T, decisionTree):\n",
    "    if decisionTree.data == 'T':\n",
    "        return 1\n",
    "    elif decisionTree.data == 'F':\n",
    "        return 0\n",
    "    else:\n",
    "        for childValue, childFeature in decisionTree.nodes:\n",
    "            if T[decisionTree.data] == childValue:\n",
    "                return TreeOutputForRow(T, childFeature)\n",
    "        return -1\n",
    "\n"
   ]
  },
  {
   "cell_type": "code",
   "execution_count": 115,
   "metadata": {
    "collapsed": true
   },
   "outputs": [],
   "source": [
    "def TreeOutput(T, decisionTree):\n",
    "    outVals = []\n",
    "    for idx, row in T.iterrows():\n",
    "        outVals.append([TreeOutputForRow(row, decisionTree)])\n",
    "    return outVals"
   ]
  },
  {
   "cell_type": "code",
   "execution_count": 123,
   "metadata": {},
   "outputs": [
    {
     "data": {
      "text/plain": [
       "[-1, -1, -1, -1, -1]"
      ]
     },
     "execution_count": 123,
     "metadata": {},
     "output_type": "execute_result"
    }
   ],
   "source": [
    "# Y_predict = TreeOutput(x_test, root_tree)\n",
    "tr = TreeNode('T')\n",
    "tr.nodes\n",
    "# print (\"Accuracy is \", accuracy_score(y_test, Y_predict)*100)"
   ]
  },
  {
   "cell_type": "code",
   "execution_count": 14,
   "metadata": {},
   "outputs": [
    {
     "name": "stdout",
     "output_type": "stream",
     "text": [
      "508.1455432407473\n"
     ]
    }
   ],
   "source": [
    "\n",
    "# observed = minnesota_table\n",
    "observed = y_test[0].value_counts()\n",
    "# national_ratios = national_table/len(national)  # Get population ratios\n",
    "\n",
    "# expected = national_ratios * len(minnesota)   # Get expected counts\n",
    "expected = y_train['Y'].value_counts()/len(y_train) * len(y_test)\n",
    "chi_squared_stat = (((observed-expected)**2)/expected).sum()\n",
    "\n",
    "print(chi_squared_stat)"
   ]
  },
  {
   "cell_type": "code",
   "execution_count": 15,
   "metadata": {},
   "outputs": [
    {
     "data": {
      "text/plain": [
       "Power_divergenceResult(statistic=508.14554324074732, pvalue=1.6058049173024654e-112)"
      ]
     },
     "execution_count": 15,
     "metadata": {},
     "output_type": "execute_result"
    }
   ],
   "source": [
    "scipy.stats.chisquare(observed,expected)"
   ]
  },
  {
   "cell_type": "code",
   "execution_count": 128,
   "metadata": {},
   "outputs": [
    {
     "ename": "KeyError",
     "evalue": "89",
     "output_type": "error",
     "traceback": [
      "\u001b[0;31m---------------------------------------------------------------------------\u001b[0m",
      "\u001b[0;31mKeyError\u001b[0m                                  Traceback (most recent call last)",
      "\u001b[0;32m<ipython-input-128-b82e0c9d8dc4>\u001b[0m in \u001b[0;36m<module>\u001b[0;34m()\u001b[0m\n\u001b[1;32m      6\u001b[0m \u001b[0mcols\u001b[0m \u001b[0;34m=\u001b[0m \u001b[0mset\u001b[0m\u001b[0;34m(\u001b[0m\u001b[0mT\u001b[0m\u001b[0;34m.\u001b[0m\u001b[0mcolumns\u001b[0m\u001b[0;34m)\u001b[0m\u001b[0;34m\u001b[0m\u001b[0m\n\u001b[1;32m      7\u001b[0m \u001b[0mcols\u001b[0m\u001b[0;34m.\u001b[0m\u001b[0mremove\u001b[0m\u001b[0;34m(\u001b[0m\u001b[0mbest_attrib\u001b[0m\u001b[0;34m)\u001b[0m\u001b[0;34m\u001b[0m\u001b[0m\n\u001b[0;32m----> 8\u001b[0;31m \u001b[0mcols\u001b[0m\u001b[0;34m.\u001b[0m\u001b[0mremove\u001b[0m\u001b[0;34m(\u001b[0m\u001b[0mbest_attrib\u001b[0m\u001b[0;34m)\u001b[0m\u001b[0;34m\u001b[0m\u001b[0m\n\u001b[0m\u001b[1;32m      9\u001b[0m \u001b[0;32mfor\u001b[0m \u001b[0mvalue\u001b[0m \u001b[0;32min\u001b[0m \u001b[0mset\u001b[0m\u001b[0;34m(\u001b[0m\u001b[0mT\u001b[0m\u001b[0;34m[\u001b[0m\u001b[0mbest_attrib\u001b[0m\u001b[0;34m]\u001b[0m\u001b[0;34m)\u001b[0m\u001b[0;34m:\u001b[0m\u001b[0;34m\u001b[0m\u001b[0m\n\u001b[1;32m     10\u001b[0m     \u001b[0msplitData\u001b[0m \u001b[0;34m=\u001b[0m \u001b[0mT\u001b[0m\u001b[0;34m.\u001b[0m\u001b[0mloc\u001b[0m\u001b[0;34m[\u001b[0m\u001b[0mT\u001b[0m\u001b[0;34m[\u001b[0m\u001b[0mbest_attrib\u001b[0m\u001b[0;34m]\u001b[0m\u001b[0;34m.\u001b[0m\u001b[0misin\u001b[0m\u001b[0;34m(\u001b[0m\u001b[0;34m[\u001b[0m\u001b[0mvalue\u001b[0m\u001b[0;34m]\u001b[0m\u001b[0;34m)\u001b[0m\u001b[0;34m,\u001b[0m \u001b[0mcols\u001b[0m\u001b[0;34m]\u001b[0m\u001b[0;34m\u001b[0m\u001b[0m\n",
      "\u001b[0;31mKeyError\u001b[0m: 89"
     ]
    }
   ],
   "source": [
    "B = time.time()\n",
    "T= XY_train\n",
    "best_attrib = 89\n",
    "chis = 0\n",
    "pval = 0\n",
    "cols = set(pd.DataFrame([]).columns)\n",
    "cols.remove(best_attrib)\n",
    "for value in set(T[best_attrib]):\n",
    "    splitData = T.loc[T[best_attrib].isin([value]), cols]\n",
    "#     print(splitData)\n",
    "    observed = splitData['Y'].value_counts()\n",
    "    print(observed)\n",
    "    expected = T['Y'].value_counts() / len(T) * len(splitData)\n",
    "    print(expected)\n",
    "    print(scipy.stats.chisquare(observed,expected))\n",
    "    S, p = scipy.stats.chisquare(observed,expected)\n",
    "#     chis += S\n",
    "#     pval += p\n",
    "# print(time.time() - B)\n",
    "print(chis)\n",
    "p_value = 1 - scipy.stats.chi2.cdf(x=chis/5,  # Find the p-value\n",
    "                             df=4)\n",
    "print(p_value)\n",
    "print(pval)"
   ]
  },
  {
   "cell_type": "code",
   "execution_count": null,
   "metadata": {
    "collapsed": true
   },
   "outputs": [],
   "source": [
    "crit = scipy.stats.chi2.ppf(q = 0.95, # Find the critical value for 95% confidence*\n",
    "                      df = 4)   # Df = number of variable categories - 1\n",
    "\n",
    "print(\"Critical value\")\n",
    "print(crit)\n",
    "\n",
    "p_value = 1 - scipy.stats.chi2.cdf(x=20,  # Find the p-value\n",
    "                             df=4)\n",
    "print(\"P value\")\n",
    "print(p_value)"
   ]
  },
  {
   "cell_type": "code",
   "execution_count": 45,
   "metadata": {},
   "outputs": [
    {
     "data": {
      "text/plain": [
       "-1"
      ]
     },
     "execution_count": 45,
     "metadata": {},
     "output_type": "execute_result"
    }
   ],
   "source": [
    "infoGainOld(d)"
   ]
  },
  {
   "cell_type": "code",
   "execution_count": 127,
   "metadata": {},
   "outputs": [
    {
     "name": "stdout",
     "output_type": "stream",
     "text": [
      "{1, 2, 3, 4, 5}\n",
      "{1, 2, 3, 4, 5}\n",
      "{1, 2, 3}\n",
      "{1, 2, 3, 4, 5}\n",
      "{1, 2}\n",
      "{1, 2, 3, 4, 5}\n",
      "{1, 2, 3, 4, 5}\n",
      "{1, 2, 3, 4, 5}\n",
      "{1, 2, 3, 4, 5}\n",
      "{1, 2, 3, 4, 5}\n",
      "{1, 2, 3, 4, 5}\n",
      "{1, 2, 3}\n",
      "{1, 2, 3, 4}\n",
      "{1, 2, 3, 4, 5}\n",
      "{1, 2}\n",
      "{1, 2, 3, 4, 5}\n",
      "{1, 2, 3, 4, 5}\n",
      "{1, 2, 3, 4, 5}\n",
      "{1, 2, 3, 4, 5}\n",
      "{1, 2, 3, 4, 5}\n",
      "{1, 2, 3}\n",
      "{1, 2, 3}\n",
      "{1, 2, 3}\n",
      "{1, 2, 3, 4, 5}\n",
      "{1, 2, 3, 4, 5}\n",
      "{1, 2, 3, 4, 5}\n",
      "{1, 2, 3, 4, 5}\n",
      "{1, 2, 3}\n",
      "{1, 2, 3}\n",
      "{1, 2, 3}\n",
      "{1, 2, 3}\n",
      "{1, 2, 3}\n",
      "{1, 2, 3}\n",
      "{1, 2, 3}\n",
      "{1, 2, 3}\n",
      "{1, 2, 3}\n",
      "{1, 2, 3, 4, 5}\n",
      "{1, 2, 3, 4, 5}\n",
      "{1, 2, 3, 4, 5}\n",
      "{1, 2}\n",
      "{1, 2, 3, 4, 5}\n",
      "{1, 2, 3, 4, 5}\n",
      "{1, 2, 3, 4, 5}\n",
      "{1, 2, 3}\n",
      "{1, 2, 3, 4, 5}\n",
      "{1, 2, 3}\n",
      "{1, 2, 3, 4, 5}\n",
      "{1, 2, 3}\n",
      "{1, 2, 3, 4, 5}\n",
      "{1, 2, 3, 4, 5}\n",
      "{1, 2, 3, 4}\n",
      "{1, 2}\n",
      "{1, 2}\n",
      "{1, 2, 3, 4}\n",
      "{1, 2, 3}\n",
      "{1, 2, 3, 4, 5}\n",
      "{1, 2, 3}\n",
      "{1, 2, 3}\n",
      "{1, 2, 3}\n",
      "{1, 2, 3}\n",
      "{1, 2, 3}\n",
      "{1, 2, 3}\n",
      "{1, 2, 3}\n",
      "{1, 2, 3}\n",
      "{1, 2, 3, 4, 5}\n",
      "{1, 2, 3, 4, 5}\n",
      "{1, 2, 3, 4, 5}\n",
      "{1, 2, 3, 4, 5}\n",
      "{1, 2, 3}\n",
      "{1, 2, 3, 4, 5}\n",
      "{1, 2, 3}\n",
      "{1, 2, 3, 4, 5}\n",
      "{1, 2, 3}\n",
      "{1, 2, 3, 4, 5}\n",
      "{1, 2, 3}\n",
      "{1, 2, 3, 4, 5}\n",
      "{1, 2, 3}\n",
      "{1, 2, 3, 4, 5}\n",
      "{1, 2, 3}\n",
      "{1, 2, 3, 4, 5}\n",
      "{1, 2, 3, 4, 5}\n",
      "{1, 2, 3, 4, 5}\n",
      "{1, 2, 3, 4, 5}\n",
      "{1, 2, 3, 4, 5}\n",
      "{1, 2, 3, 4, 5}\n",
      "{1, 2, 3, 4, 5}\n",
      "{1, 2, 3, 4, 5}\n",
      "{1, 2, 3, 4, 5}\n",
      "{1, 2, 3, 4, 5}\n",
      "{1, 2, 3, 4, 5}\n",
      "{1, 2, 3, 4, 5}\n",
      "{1, 2, 3, 4, 5}\n",
      "{1, 2, 3, 4, 5}\n",
      "{1, 2, 3, 4, 5}\n",
      "{1, 2, 3, 4, 5}\n",
      "{1, 2, 3, 4, 5}\n",
      "{1, 2, 3, 4, 5}\n",
      "{1, 2, 3, 4, 5}\n",
      "{1, 2, 3, 4, 5}\n",
      "{1, 2, 3, 4, 5}\n",
      "{1, 2, 3, 4, 5}\n",
      "{1, 2, 3, 4, 5}\n",
      "{1, 2, 3, 4, 5}\n",
      "{1, 2, 3, 4, 5}\n",
      "{1, 2, 3, 4}\n",
      "{1, 2, 3, 4, 5}\n",
      "{1, 2, 3, 4}\n",
      "{1, 2, 3, 4, 5}\n",
      "{1, 2, 3, 4, 5}\n",
      "{1, 2}\n",
      "{1, 2}\n",
      "{1, 2, 3, 4, 5}\n",
      "{1, 2, 3, 4}\n",
      "{1, 2, 3, 4}\n",
      "{1, 2, 3, 4, 5}\n",
      "{1, 2, 3, 4, 5}\n",
      "{1, 2, 3, 4}\n",
      "{1}\n",
      "{1, 2, 3, 4, 5}\n",
      "{1, 2, 3, 4, 5}\n",
      "{1, 2, 3, 4, 5}\n",
      "{1, 2, 3, 4, 5}\n",
      "{1, 2, 3, 4, 5}\n",
      "{1, 2, 3, 4, 5}\n",
      "{1, 2, 3, 4, 5}\n",
      "{1, 2, 3, 4, 5}\n",
      "{1, 2, 3, 4}\n",
      "{1, 2, 3, 4, 5}\n",
      "{1, 2, 3, 4, 5}\n",
      "{1, 2, 3, 4, 5}\n",
      "{1, 2, 3, 4, 5}\n",
      "{1, 2, 3, 4, 5}\n",
      "{1, 2, 3, 4, 5}\n",
      "{1, 2, 3, 4, 5}\n",
      "{1, 2, 3, 4, 5}\n",
      "{1, 2, 3, 4, 5}\n",
      "{1, 2, 3, 4, 5}\n",
      "{1, 2, 3, 4, 5}\n",
      "{1, 2, 3, 4, 5}\n",
      "{1, 2, 3, 4, 5}\n",
      "{1, 2, 3, 4, 5}\n",
      "{1, 2, 3, 4, 5}\n",
      "{1, 2, 3, 4, 5}\n",
      "{1, 2, 3, 4, 5}\n",
      "{1, 2, 3, 4, 5}\n",
      "{1, 2, 3, 4, 5}\n",
      "{1, 2, 3, 4, 5}\n",
      "{1, 2, 3, 4}\n",
      "{1, 2, 3, 4, 5}\n",
      "{1, 2, 3, 4, 5}\n",
      "{1, 2, 3, 4, 5}\n",
      "{1, 2, 3, 4, 5}\n",
      "{1, 2, 3, 4, 5}\n",
      "{1, 2, 3, 4, 5}\n",
      "{1, 2, 3, 4, 5}\n",
      "{1, 2, 3, 4, 5}\n",
      "{1, 2, 3, 4, 5}\n",
      "{1, 2, 3, 4, 5}\n",
      "{1, 2, 3, 4, 5}\n",
      "{1, 2, 3, 4, 5}\n",
      "{1, 2, 3, 4, 5}\n",
      "{1, 2, 3, 4, 5}\n",
      "{1, 2, 3, 4, 5}\n",
      "{1, 2, 3, 4, 5}\n",
      "{1, 2, 3, 4, 5}\n",
      "{1, 2, 3, 4, 5}\n",
      "{1, 2, 3, 4, 5}\n",
      "{1, 2, 3, 4, 5}\n",
      "{1, 2, 3, 4, 5}\n",
      "{1, 2, 3, 4, 5}\n",
      "{1, 2, 3, 4, 5}\n",
      "{1, 2, 3, 4, 5}\n",
      "{1, 2, 3, 4, 5}\n",
      "{1, 2, 3, 4, 5}\n",
      "{1, 2, 3, 4, 5}\n",
      "{1, 2, 3, 4, 5}\n",
      "{1, 2, 3, 4, 5}\n",
      "{1, 2, 3, 4, 5}\n",
      "{1, 2, 3, 4, 5}\n",
      "{1, 2, 3, 4, 5}\n",
      "{1, 2, 3, 4, 5}\n",
      "{1, 2, 3, 4, 5}\n",
      "{1, 2, 3, 4}\n",
      "{1, 2, 3, 4}\n",
      "{1, 2, 3, 4, 5}\n",
      "{1, 2, 3, 4, 5}\n",
      "{1, 2, 3, 4, 5}\n",
      "{1, 2, 3, 4}\n",
      "{1, 2}\n",
      "{1, 2, 3}\n",
      "{1, 2, 3, 4, 5}\n",
      "{1, 2, 3, 4, 5}\n",
      "{1, 2, 3, 4}\n",
      "{1, 2, 3, 4}\n",
      "{1, 2, 3}\n",
      "{1, 2, 3}\n",
      "{1, 2, 3, 4}\n",
      "{1, 2, 3, 4, 5}\n",
      "{1, 2, 3, 4, 5}\n",
      "{1, 2, 3, 4, 5}\n",
      "{1, 2, 3, 4, 5}\n",
      "{1, 2, 3, 4, 5}\n",
      "{1, 2, 3, 4, 5}\n",
      "{1, 2, 3, 4}\n",
      "{1, 2, 3}\n",
      "{1, 2, 3}\n",
      "{1, 2, 3}\n",
      "{1, 2, 3}\n",
      "{1, 2, 3}\n",
      "{1, 2, 3, 4, 5}\n",
      "{1, 2, 3, 4}\n",
      "{1, 2, 3, 4, 5}\n",
      "{1, 2, 3, 4, 5}\n",
      "{1, 2, 3, 4, 5}\n",
      "{1, 2, 3, 4, 5}\n",
      "{1, 2, 3, 4, 5}\n",
      "{1, 2, 3, 4, 5}\n",
      "{1, 2, 3, 4, 5}\n",
      "{1, 2, 3, 4, 5}\n",
      "{1, 2, 3, 4, 5}\n",
      "{1, 2, 3, 4, 5}\n",
      "{1, 2, 3, 4, 5}\n",
      "{1, 2, 3, 4, 5}\n",
      "{1, 2, 3, 4, 5}\n",
      "{1, 2, 3, 4, 5}\n",
      "{1, 2, 3, 4, 5}\n",
      "{1, 2, 3, 4, 5}\n",
      "{1, 2, 3, 4, 5}\n",
      "{1, 2, 3, 4, 5}\n",
      "{1, 2, 3, 4, 5}\n",
      "{1, 2, 3, 4, 5}\n",
      "{1, 2, 3, 4}\n",
      "{1, 2, 3, 4, 5}\n",
      "{1, 2, 3, 4, 5}\n",
      "{1, 2, 3, 4, 5}\n",
      "{1, 2, 3, 4, 5}\n",
      "{1, 2, 3, 4, 5}\n",
      "{1, 2, 3, 4, 5}\n",
      "{1, 2, 3, 4, 5}\n",
      "{1, 2, 3, 4, 5}\n",
      "{1, 2, 3, 4, 5}\n",
      "{1, 2, 3, 4, 5}\n",
      "{1, 2, 3, 4, 5}\n",
      "{1, 2, 3, 4, 5}\n",
      "{1, 2, 3, 4, 5}\n",
      "{1, 2, 3, 4, 5}\n",
      "{1, 2, 3, 4, 5}\n",
      "{1, 2, 3, 4, 5}\n",
      "{1, 2, 3, 4}\n",
      "{1, 2, 3}\n",
      "{1, 2, 3}\n",
      "{1, 2, 3}\n",
      "{1, 2, 3}\n",
      "{1, 2, 3, 4, 5}\n",
      "{1, 2, 3, 4, 5}\n",
      "{1, 2, 3}\n",
      "{1, 2, 3, 4, 5}\n",
      "{1, 2, 3, 4}\n",
      "{1, 2, 3, 4, 5}\n",
      "{1, 2, 3, 4, 5}\n",
      "{1, 2, 3}\n",
      "{1, 2, 3, 4, 5}\n",
      "{1, 2, 3, 4, 5}\n",
      "{1, 2, 3, 4, 5}\n",
      "{1, 2, 3, 4, 5}\n",
      "{1, 2, 3, 4, 5}\n",
      "{1, 2, 3, 4, 5}\n",
      "{1, 2, 3, 4, 5}\n",
      "{1, 2, 3, 4, 5}\n",
      "{1, 2, 3, 4}\n",
      "{1, 2, 3, 4, 5}\n",
      "{1, 2, 3, 4, 5}\n",
      "{1, 2, 3, 4, 5}\n",
      "{1, 2, 3, 4, 5}\n"
     ]
    }
   ],
   "source": [
    "for i in range(274):\n",
    "    print(set(XY_train[i]))"
   ]
  },
  {
   "cell_type": "code",
   "execution_count": null,
   "metadata": {
    "collapsed": true
   },
   "outputs": [],
   "source": []
  }
 ],
 "metadata": {
  "kernelspec": {
   "display_name": "Python 3",
   "language": "python",
   "name": "python3"
  },
  "language_info": {
   "codemirror_mode": {
    "name": "ipython",
    "version": 3
   },
   "file_extension": ".py",
   "mimetype": "text/x-python",
   "name": "python",
   "nbconvert_exporter": "python",
   "pygments_lexer": "ipython3",
   "version": "3.6.1"
  }
 },
 "nbformat": 4,
 "nbformat_minor": 2
}
